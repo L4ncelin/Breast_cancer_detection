{
 "cells": [
  {
   "cell_type": "code",
   "execution_count": 1,
   "metadata": {},
   "outputs": [
    {
     "name": "stderr",
     "output_type": "stream",
     "text": [
      "d:\\Developpement\\OVO_3A_CS\\Breast_cancer_detection\\Sources\\tools.py:32: SyntaxWarning: invalid escape sequence '\\s'\n",
      "  infos_df = pd.read_csv(\"Data/breasts_infos.txt\", sep='\\s+', names=[\"image_idx\", \"tissue\", \"abnormality\", \"severity\", \"x_coord\", \"y_coord\", \"radius\"])\n"
     ]
    }
   ],
   "source": [
    "from Sources.tools import *"
   ]
  },
  {
   "cell_type": "markdown",
   "metadata": {},
   "source": [
    "# Load images"
   ]
  },
  {
   "cell_type": "code",
   "execution_count": 2,
   "metadata": {},
   "outputs": [
    {
     "name": "stderr",
     "output_type": "stream",
     "text": [
      "100%|██████████| 322/322 [00:09<00:00, 34.31it/s]\n"
     ]
    }
   ],
   "source": [
    "breast_images = load_images()\n",
    "infos_df = load_infos()"
   ]
  },
  {
   "cell_type": "markdown",
   "metadata": {},
   "source": [
    "# Pre-process images"
   ]
  },
  {
   "cell_type": "code",
   "execution_count": 3,
   "metadata": {},
   "outputs": [
    {
     "name": "stderr",
     "output_type": "stream",
     "text": [
      "  0%|          | 0/322 [00:00<?, ?it/s]d:\\Developpement\\OVO_3A_CS\\Breast_cancer_detection\\Sources\\tools.py:51: FutureWarning: `square` is deprecated since version 0.25 and will be removed in version 0.27. Use `skimage.morphology.footprint_rectangle` instead.\n",
      "  selem1 = morphology.square(100)  # Structuring element, here a 3x3 square\n",
      "100%|██████████| 322/322 [1:00:34<00:00, 11.29s/it]\n"
     ]
    }
   ],
   "source": [
    "preprocess_images = get_preprocess_images(breast_images)"
   ]
  },
  {
   "cell_type": "code",
   "execution_count": null,
   "metadata": {},
   "outputs": [],
   "source": [
    "# Apply filters"
   ]
  },
  {
   "cell_type": "markdown",
   "metadata": {},
   "source": [
    "# Region of interest"
   ]
  },
  {
   "cell_type": "code",
   "execution_count": 3,
   "metadata": {},
   "outputs": [
    {
     "name": "stderr",
     "output_type": "stream",
     "text": [
      "Removing Pectoral Muscle: 100%|██████████| 322/322 [00:18<00:00, 17.52it/s]\n"
     ]
    }
   ],
   "source": [
    "images_region_of_interest = get_region_of_interest(preprocess_images)"
   ]
  }
 ],
 "metadata": {
  "kernelspec": {
   "display_name": "env_ovo_project",
   "language": "python",
   "name": "python3"
  },
  "language_info": {
   "codemirror_mode": {
    "name": "ipython",
    "version": 3
   },
   "file_extension": ".py",
   "mimetype": "text/x-python",
   "name": "python",
   "nbconvert_exporter": "python",
   "pygments_lexer": "ipython3",
   "version": "3.13.2"
  }
 },
 "nbformat": 4,
 "nbformat_minor": 2
}
